{
  "cells": [
    {
      "cell_type": "markdown",
      "metadata": {
        "id": "view-in-github",
        "colab_type": "text"
      },
      "source": [
        "<a href=\"https://colab.research.google.com/github/omkarade/Speaker-Recognition-using-Transfer-Learning-And-One-Shot-Learning/blob/main/preprocessing.ipynb\" target=\"_parent\"><img src=\"https://colab.research.google.com/assets/colab-badge.svg\" alt=\"Open In Colab\"/></a>"
      ]
    },
    {
      "cell_type": "code",
      "execution_count": null,
      "metadata": {
        "id": "DWEppi5N8XA4"
      },
      "outputs": [],
      "source": [
        "!pip install pydub\n",
        "import matplotlib.pyplot as plt\n",
        "import time\n",
        "import os\n",
        "import librosa\n",
        "import tensorflow as tf\n",
        "from matplotlib.pyplot import specgram\n",
        "from os import listdir\n",
        "from os.path import isfile, join\n",
        "from tqdm import tqdm\n",
        "import pandas as pd\n",
        "import numpy as np\n",
        "import matplotlib.pylab as plt\n",
        "import seaborn as sns\n",
        "from pydub.playback import play\n",
        "from pydub import AudioSegment as am\n",
        "from pydub import AudioSegment\n",
        "from pydub.silence import split_on_silence\n",
        "import soundfile as sf\n",
        "from pydub import AudioSegment\n",
        "sns.set_theme(style=\"white\", palette=None)\n",
        "color_pal = plt.rcParams[\"axes.prop_cycle\"].by_key()[\"color\"]\n",
        "color_cycle = cycle(plt.rcParams[\"axes.prop_cycle\"].by_key()[\"color\"])\n",
        "import os\n",
        "from IPython.display import Audio\n"
      ]
    },
    {
      "cell_type": "markdown",
      "metadata": {
        "id": "6POtXOUIBRhF"
      },
      "source": [
        "#**Downloding Youtube Video's For Training Model**"
      ]
    },
    {
      "cell_type": "code",
      "execution_count": null,
      "metadata": {
        "colab": {
          "base_uri": "https://localhost:8080/"
        },
        "id": "8EV2oT1yDGSO",
        "outputId": "c0002505-db22-4678-d113-bc88c6df5a7d"
      },
      "outputs": [
        {
          "name": "stdout",
          "output_type": "stream",
          "text": [
            "Looking in indexes: https://pypi.org/simple, https://us-python.pkg.dev/colab-wheels/public/simple/\n",
            "Collecting youtube-dl\n",
            "  Downloading youtube_dl-2021.12.17-py2.py3-none-any.whl (1.9 MB)\n",
            "\u001b[K     |████████████████████████████████| 1.9 MB 2.1 MB/s \n",
            "\u001b[?25hInstalling collected packages: youtube-dl\n",
            "Successfully installed youtube-dl-2021.12.17\n"
          ]
        }
      ],
      "source": [
        "!pip install --upgrade youtube-dl"
      ]
    },
    {
      "cell_type": "markdown",
      "source": [
        "##**provided youtube video link in tex file**\n",
        "###**[Oprah,https://www.youtube.com/watch?v=GMWFieBGR7c,Sriraj,https://www.youtube.com/watch?v=vOppzHpvTiQ&list=PL2-dafEMk2A7YdKv4XfKpfbTH5z6rEEj3] in this format the data is present**"
      ],
      "metadata": {
        "id": "uGfDQ6MIF5Uy"
      }
    },
    {
      "cell_type": "code",
      "source": [
        "#for taining i use six youtube channel and one open source data used\n",
        "youtube channel's-:\n",
        "1]Oprah-\n",
        "https://www.youtube.com/watch?v=GMWFieBGR7c\n",
        "2]Patrick-\n",
        "https://www.youtube.com/watch?v=cIVpemcoAlY&list=PL58C7BA6C14FD8F48\n",
        "https://www.youtube.com/watch?v=HYSI-AHUqRM&list=PL58C7BA6C14FD8F48\n",
        "https://www.youtube.com/watch?v=aw_VM_ZDeIo&list=PLFE99D6AA25B9E5A2\n",
        "https://www.youtube.com/watch?v=Gi8_a7NlKAQ&list=PLFE99D6AA25B9E5A2\n",
        "https://www.youtube.com/watch?v=odhAVmAahb4&list=PLF83D74BA4DE75897\n",
        "https://www.youtube.com/watch?v=IUzoNG4-MIc&list=PLF83D74BA4DE75897\n",
        "https://www.youtube.com/watch?v=3ULXhiJqlPs&   list=PL8gnhgRJl1x4rjaE3rM9C1v-jWy4kkgMC\n",
        "https://www.youtube.com/watch?v=Im0VnXfYSns&list=PL8gnhgRJl1x4rjaE3rM9C1v-jWy4kkgMC\n",
        "https://www.youtube.com/watch?v=9K1xx6wfN-U&list=PLqef6KgycNCyyCXi5BUNnmK2nZtEohyq3\n",
        "https://www.youtube.com/watch?v=AAW7WRFBKdw\n",
        "3]Christen-\n",
        "https://www.youtube.com/watch?v=BEweWXa5Twk\n",
        "https://www.youtube.com/watch?v=s05QAgGSxgg\n",
        "https://www.youtube.com/watch?v=tQSoDmf5jLg\n",
        "https://www.youtube.com/watch?v=CB8qXiuG2L0\n",
        "https://www.youtube.com/watch?v=FHkbbIW8lsI\n",
        "https://www.youtube.com/watch?v=1Cjij7Yja_s\n",
        "https://www.youtube.com/watch?v=Z9svINZiBdU\n",
        "https://www.youtube.com/watch?v=7H1siejx-9s\n",
        "https://www.youtube.com/watch?v=PmBfZ6KjkAg\n",
        "https://www.youtube.com/watch?v=YTVDwWtSjbc\n",
        "4]Blaha-\n",
        "https://www.youtube.com/watch?v=ofVkh8_K6T8\n",
        "https://www.youtube.com/watch?v=_iIi6BiT9Co\n",
        "https://www.youtube.com/watch?v=eG5wt9dKn7U\n",
        "https://www.youtube.com/watch?v=ClVmiorv_Rg\n",
        "https://www.youtube.com/watch?v=K1h5ZNE9OcE\n",
        "https://www.youtube.com/watch?v=gklcO6MNZ04\n",
        "https://www.youtube.com/watch?v=FWLj1jYJ1xc\n",
        "5]codewithharry-\n",
        "https://www.youtube.com/c/codewithharry\n",
        "6]ApnaCollegeOfficial-\n",
        "https://www.youtube.com/c/ApnaCollegeOfficial\n",
        "7]LJspeech-open source audio dataset-\n",
        "https://keithito.com/LJ-Speech-Dataset/"
      ],
      "metadata": {
        "id": "20ZEIS0wOR5x"
      },
      "execution_count": null,
      "outputs": []
    },
    {
      "cell_type": "code",
      "execution_count": null,
      "metadata": {
        "id": "U29lK_5E8fAd"
      },
      "outputs": [],
      "source": [
        "#Code Took From https://github.com/hamzag95/voice-classification/blob/master/Chris'%20Notebook.ipynb\n",
        "vid_list = [line.strip() for line in tex]\n",
        "    \n",
        "profiles = {}\n",
        "curr_profile = 0\n",
        "    \n",
        "for line in vid_list:\n",
        "    if line.startswith(\"http\") is False:\n",
        "        curr_profile = line\n",
        "        profiles[curr_profile] = []\n",
        "    else:\n",
        "        profiles[curr_profile].append(line)\n"
      ]
    },
    {
      "cell_type": "code",
      "execution_count": null,
      "metadata": {
        "id": "Y-owhDDT8fGX"
      },
      "outputs": [],
      "source": [
        "from __future__ import unicode_literals\n",
        "import youtube_dl\n",
        "\n",
        "for key in profiles:    \n",
        "    ydl_opts = {\n",
        "        'format': 'bestaudio/best',\n",
        "        'noplaylist': True,\n",
        "        'outtmpl': './wavs/' + key + '/%(title)s.%(ext)s',\n",
        "        'postprocessors': [{\n",
        "            'key': 'FFmpegExtractAudio',\n",
        "            'preferredcodec': 'wav',\n",
        "            'preferredquality': '192',\n",
        "        }],\n",
        "    }\n",
        "\n",
        "    for URL in profiles[key]:\n",
        "        with youtube_dl.YoutubeDL(ydl_opts) as ydl:\n",
        "            ydl.download([URL])"
      ]
    },
    {
      "cell_type": "markdown",
      "source": [
        "#**Data Clenning**\n",
        "##**Changing Channel And Sampling Rate**\n",
        "##**Channel=1 And Sampling Rate=44000hz**"
      ],
      "metadata": {
        "id": "ptNZuoeUA4ej"
      }
    },
    {
      "cell_type": "code",
      "execution_count": null,
      "metadata": {
        "id": "hG3-zjKh1Lsp"
      },
      "outputs": [],
      "source": [
        "gg=os.listdir(\"/wavs\")"
      ]
    },
    {
      "cell_type": "code",
      "execution_count": null,
      "metadata": {
        "colab": {
          "base_uri": "https://localhost:8080/"
        },
        "id": "tJj5z_sLqsZL",
        "outputId": "c6b10d1e-4ca5-4428-a0ee-1e8a939dc9b4"
      },
      "outputs": [
        {
          "name": "stderr",
          "output_type": "stream",
          "text": [
            "\r  0%|          | 0/34 [00:00<?, ?it/s]"
          ]
        },
        {
          "name": "stdout",
          "output_type": "stream",
          "text": [
            "Binary Tree Traversal.wav\n"
          ]
        },
        {
          "name": "stderr",
          "output_type": "stream",
          "text": [
            "\r  3%|▎         | 1/34 [00:02<01:28,  2.70s/it]"
          ]
        },
        {
          "name": "stdout",
          "output_type": "stream",
          "text": [
            "Binary Search Tree Search.wav\n"
          ]
        },
        {
          "name": "stderr",
          "output_type": "stream",
          "text": [
            "\r  6%|▌         | 2/34 [00:03<00:55,  1.74s/it]"
          ]
        },
        {
          "name": "stdout",
          "output_type": "stream",
          "text": [
            "How to Make a Prediction - Intro to Deep Learning #1.wav\n"
          ]
        },
        {
          "name": "stderr",
          "output_type": "stream",
          "text": [
            "\r  9%|▉         | 3/34 [00:05<00:52,  1.68s/it]"
          ]
        },
        {
          "name": "stdout",
          "output_type": "stream",
          "text": [
            "Approximating a Definite Integral Using Rectangles.wav\n"
          ]
        },
        {
          "name": "stderr",
          "output_type": "stream",
          "text": [
            "\r 12%|█▏        | 4/34 [00:06<00:40,  1.35s/it]"
          ]
        },
        {
          "name": "stdout",
          "output_type": "stream",
          "text": [
            "Vector Basics - Algebraic Representations.wav\n"
          ]
        },
        {
          "name": "stderr",
          "output_type": "stream",
          "text": [
            "\r 15%|█▍        | 5/34 [00:06<00:31,  1.09s/it]"
          ]
        },
        {
          "name": "stdout",
          "output_type": "stream",
          "text": [
            "Sequences - Examples showing convergence or divergence.wav\n"
          ]
        },
        {
          "name": "stderr",
          "output_type": "stream",
          "text": [
            "\r 18%|█▊        | 6/34 [00:07<00:30,  1.09s/it]"
          ]
        },
        {
          "name": "stdout",
          "output_type": "stream",
          "text": [
            "Longest Common Subsequence.wav\n"
          ]
        },
        {
          "name": "stderr",
          "output_type": "stream",
          "text": [
            "\r 21%|██        | 7/34 [00:09<00:31,  1.18s/it]"
          ]
        },
        {
          "name": "stdout",
          "output_type": "stream",
          "text": [
            "5 Minute Drugstore Makeup Tutorial.wav\n"
          ]
        },
        {
          "name": "stderr",
          "output_type": "stream",
          "text": [
            "\r 24%|██▎       | 8/34 [00:11<00:39,  1.51s/it]"
          ]
        },
        {
          "name": "stdout",
          "output_type": "stream",
          "text": [
            "System Design Introduction For Interview..wav\n"
          ]
        },
        {
          "name": "stderr",
          "output_type": "stream",
          "text": [
            "\r 26%|██▋       | 9/34 [00:18<01:18,  3.13s/it]"
          ]
        },
        {
          "name": "stdout",
          "output_type": "stream",
          "text": [
            "Marc Lobliner Now Smaller Than Chris Jones Things That Make You Go Hmmmm....wav\n"
          ]
        },
        {
          "name": "stderr",
          "output_type": "stream",
          "text": [
            "\r 29%|██▉       | 10/34 [00:20<01:07,  2.80s/it]"
          ]
        },
        {
          "name": "stdout",
          "output_type": "stream",
          "text": [
            "Improving Our Weak Links - Learning To Love Our Most Challenging Lifts.wav\n"
          ]
        },
        {
          "name": "stderr",
          "output_type": "stream",
          "text": [
            "\r 32%|███▏      | 11/34 [00:22<01:01,  2.69s/it]"
          ]
        },
        {
          "name": "stdout",
          "output_type": "stream",
          "text": [
            "Dallas McCarver Autopsy Released With Surprising Findings.wav\n"
          ]
        },
        {
          "name": "stderr",
          "output_type": "stream",
          "text": [
            "\r 35%|███▌      | 12/34 [00:25<01:02,  2.84s/it]"
          ]
        },
        {
          "name": "stdout",
          "output_type": "stream",
          "text": [
            "American VS Arab Makeup Tutorial.wav\n"
          ]
        },
        {
          "name": "stderr",
          "output_type": "stream",
          "text": [
            "\r 38%|███▊      | 13/34 [00:30<01:09,  3.31s/it]"
          ]
        },
        {
          "name": "stdout",
          "output_type": "stream",
          "text": [
            "Best Full Coverage Drugstore & Highend Foundations.wav\n"
          ]
        },
        {
          "name": "stderr",
          "output_type": "stream",
          "text": [
            "\r 41%|████      | 14/34 [00:34<01:11,  3.59s/it]"
          ]
        },
        {
          "name": "stdout",
          "output_type": "stream",
          "text": [
            "FACE SURGERY WITH MAKEUP.wav\n"
          ]
        },
        {
          "name": "stderr",
          "output_type": "stream",
          "text": [
            "\r 44%|████▍     | 15/34 [00:37<01:03,  3.35s/it]"
          ]
        },
        {
          "name": "stdout",
          "output_type": "stream",
          "text": [
            "My Everyday Makeup Routine.wav\n"
          ]
        },
        {
          "name": "stderr",
          "output_type": "stream",
          "text": [
            "\r 47%|████▋     | 16/34 [00:40<01:00,  3.36s/it]"
          ]
        },
        {
          "name": "stdout",
          "output_type": "stream",
          "text": [
            "Oprah Winfrey Harvard Commencement speech _ Harvard Commencement 2013.wav\n"
          ]
        },
        {
          "name": "stderr",
          "output_type": "stream",
          "text": [
            "\r 50%|█████     | 17/34 [00:46<01:07,  3.95s/it]"
          ]
        },
        {
          "name": "stdout",
          "output_type": "stream",
          "text": [
            "Properties of Logarithms - Everything You Need to Know!.wav\n"
          ]
        },
        {
          "name": "stderr",
          "output_type": "stream",
          "text": [
            "\r 53%|█████▎    | 18/34 [00:50<01:06,  4.14s/it]"
          ]
        },
        {
          "name": "stdout",
          "output_type": "stream",
          "text": [
            "Fall First Impressions Makeup _ Huda Beauty, Kylie Jenner, Too Faced & More.wav\n"
          ]
        },
        {
          "name": "stderr",
          "output_type": "stream",
          "text": [
            "\r 56%|█████▌    | 19/34 [00:53<00:57,  3.83s/it]"
          ]
        },
        {
          "name": "stdout",
          "output_type": "stream",
          "text": [
            "What is a Limit Basic Idea of Limits.wav\n"
          ]
        },
        {
          "name": "stderr",
          "output_type": "stream",
          "text": [
            "\r 59%|█████▉    | 20/34 [00:54<00:42,  3.03s/it]"
          ]
        },
        {
          "name": "stdout",
          "output_type": "stream",
          "text": [
            "0_1 Knapsack Problem Dynamic Programming.wav\n"
          ]
        },
        {
          "name": "stderr",
          "output_type": "stream",
          "text": [
            "\r 62%|██████▏   | 21/34 [00:57<00:39,  3.04s/it]"
          ]
        },
        {
          "name": "stdout",
          "output_type": "stream",
          "text": [
            "Arithmetic Basics - Finding the Percent of a Number.wav\n"
          ]
        },
        {
          "name": "stderr",
          "output_type": "stream",
          "text": [
            "\r 65%|██████▍   | 22/34 [00:58<00:28,  2.38s/it]"
          ]
        },
        {
          "name": "stdout",
          "output_type": "stream",
          "text": [
            "❖ Basic Integration Problems.wav\n"
          ]
        },
        {
          "name": "stderr",
          "output_type": "stream",
          "text": [
            "\r 68%|██████▊   | 23/34 [01:00<00:24,  2.20s/it]"
          ]
        },
        {
          "name": "stdout",
          "output_type": "stream",
          "text": [
            "Jason Blaha's Current Training Program & Philosophy - 220 Lbs Recomp.wav\n"
          ]
        },
        {
          "name": "stderr",
          "output_type": "stream",
          "text": [
            "\r 71%|███████   | 24/34 [01:02<00:21,  2.15s/it]"
          ]
        },
        {
          "name": "stdout",
          "output_type": "stream",
          "text": [
            "American VS French Makeup Tutorial.wav\n"
          ]
        },
        {
          "name": "stderr",
          "output_type": "stream",
          "text": [
            "\r 74%|███████▎  | 25/34 [01:06<00:22,  2.53s/it]"
          ]
        },
        {
          "name": "stdout",
          "output_type": "stream",
          "text": [
            "Sweatproof Makeup and Styling My Lob Tutorial.wav\n"
          ]
        },
        {
          "name": "stderr",
          "output_type": "stream",
          "text": [
            "\r 76%|███████▋  | 26/34 [01:08<00:20,  2.60s/it]"
          ]
        },
        {
          "name": "stdout",
          "output_type": "stream",
          "text": [
            "Binary Search  - Median of two sorted arrays of different sizes..wav\n"
          ]
        },
        {
          "name": "stderr",
          "output_type": "stream",
          "text": [
            "\r 79%|███████▉  | 27/34 [01:13<00:22,  3.15s/it]"
          ]
        },
        {
          "name": "stdout",
          "output_type": "stream",
          "text": [
            "System Design  - Design messaging_chat service like Facebook Messenger or Whatsapp.wav\n"
          ]
        },
        {
          "name": "stderr",
          "output_type": "stream",
          "text": [
            "\r 82%|████████▏ | 28/34 [01:18<00:23,  3.92s/it]"
          ]
        },
        {
          "name": "stdout",
          "output_type": "stream",
          "text": [
            "Warm and Cozy Glam Makeup Tutorial.wav\n"
          ]
        },
        {
          "name": "stderr",
          "output_type": "stream",
          "text": [
            "\r 85%|████████▌ | 29/34 [01:20<00:16,  3.28s/it]"
          ]
        },
        {
          "name": "stdout",
          "output_type": "stream",
          "text": [
            "Full Face First Impressions _ Trying New Makeup.wav\n"
          ]
        },
        {
          "name": "stderr",
          "output_type": "stream",
          "text": [
            "\r 88%|████████▊ | 30/34 [01:23<00:12,  3.02s/it]"
          ]
        },
        {
          "name": "stdout",
          "output_type": "stream",
          "text": [
            "❖ A Way to remember the Entire Unit Circle for Trigonometry ❖.wav\n"
          ]
        },
        {
          "name": "stderr",
          "output_type": "stream",
          "text": [
            "\r 91%|█████████ | 31/34 [01:24<00:07,  2.59s/it]"
          ]
        },
        {
          "name": "stdout",
          "output_type": "stream",
          "text": [
            "Maintaining Size When The Enhanced Lifter Decides To Go Clean.wav\n"
          ]
        },
        {
          "name": "stderr",
          "output_type": "stream",
          "text": [
            "\r 94%|█████████▍| 32/34 [01:27<00:05,  2.53s/it]"
          ]
        },
        {
          "name": "stdout",
          "output_type": "stream",
          "text": [
            "❖ Long Division of Numbers - Arithmetic Basics, Ex 1 ❖.wav\n"
          ]
        },
        {
          "name": "stderr",
          "output_type": "stream",
          "text": [
            "\r 97%|█████████▋| 33/34 [01:28<00:02,  2.13s/it]"
          ]
        },
        {
          "name": "stdout",
          "output_type": "stream",
          "text": [
            "Math Videos -  How To Learn Basic Arithmetic Fast - Online Tutorial Lessons.wav\n"
          ]
        },
        {
          "name": "stderr",
          "output_type": "stream",
          "text": [
            "100%|██████████| 34/34 [01:42<00:00,  3.00s/it]\n"
          ]
        }
      ],
      "source": [
        "for k in tqdm(gg):\n",
        "  print(k)\n",
        "  #file_name=os.path.basename('/content/drive/MyDrive/MainTTS/NAMO/{}'.format(k))\n",
        "  filepath='/wavs/{}'.format(k)\n",
        "  sound = AudioSegment.from_wav('/wavs/{}'.format(k))\n",
        "  sound2 = am.from_file(filepath, format='wav', frame_rate=44000)\n",
        "  sound3 = sound2.set_frame_rate(44000)\n",
        "  sound = sound3.set_channels(1)\n",
        "  sound.export('/new_chunk/{}'.format(k), format=\"wav\")"
      ]
    },
    {
      "cell_type": "code",
      "execution_count": null,
      "metadata": {
        "id": "JeqA3LiZ6RPR"
      },
      "outputs": [],
      "source": [
        "def load_wav(x, get_duration=True):\n",
        "    #loading the wav file with sampling rate of 22050\n",
        "    samples, sample_rate = librosa.load(x, sr=44000)\n",
        "    if get_duration:\n",
        "        duration = librosa.get_duration(samples, sample_rate)\n",
        "        return duration"
      ]
    },
    {
      "cell_type": "markdown",
      "source": [
        "#**Creating 5 Second Chunks**"
      ],
      "metadata": {
        "id": "ZJzr7E8ICrSX"
      }
    },
    {
      "cell_type": "code",
      "execution_count": null,
      "metadata": {
        "id": "8NCpFS0iHo6x"
      },
      "outputs": [],
      "source": [
        "chunk_name=pd.DataFrame()\n",
        "import wave\n",
        "we=2\n",
        "for i,j in enumerate(po):\n",
        "  w=0\n",
        "  kn=5\n",
        "  fpo=int(load_wav(\"/new_chunk/{}\".format(j)))\n",
        "  for k in range(0, fpo, 5):\n",
        "    start = k # seconds\n",
        "    end = kn # seconds\n",
        "    print(start,end)\n",
        "\n",
        "    kn+=5\n",
        "# file to extract the snippet from\n",
        "    with wave.open('/new_chunk/{}'.format(j), \"rb\") as infile:\n",
        "    # get file data\n",
        "        nchannels = infile.getnchannels()\n",
        "        sampwidth = infile.getsampwidth()\n",
        "        framerate = infile.getframerate()\n",
        "    # set position in wave to start of segment\n",
        "\n",
        "        infile.setpos(int(start * framerate))\n",
        "    # extract data\n",
        "        data = infile.readframes(int((end - start) * framerate))\n",
        "\n",
        "        chunk_name['filename']=j\n",
        "        chunk_name['chunk']=('{0}{1}my_out_file.wav'.format(i,start))\n",
        "\n",
        "# write the extracted data to a new file\n",
        "        kop=j.split(\".\")\n",
        "        ko=kop[0]\n",
        "    with wave.open('/achunk/{0}#{1}my_out_file.wav'.format(ko,start), 'w') as outfile:\n",
        "        outfile.setnchannels(nchannels)\n",
        "        outfile.setsampwidth(sampwidth)\n",
        "        outfile.setframerate(framerate)\n",
        "        outfile.setnframes(int(len(data) / sampwidth))\n",
        "        outfile.writeframes(data)\n",
        "        we+=2\n",
        "\n"
      ]
    },
    {
      "cell_type": "markdown",
      "source": [
        "#**Converting wav to spectogram**"
      ],
      "metadata": {
        "id": "4nvbPt18EAvp"
      }
    },
    {
      "cell_type": "code",
      "source": [
        "#code took from https://github.com/hamzag95/voice-classification/blob/master/Chris'%20Notebook.ipynb\n",
        "def load_sound_files(fp):\n",
        "    raw_sounds = []\n",
        "    fpp=\"/wavs/{}\".format(fp)\n",
        "    X,sr = librosa.load(fpp,sr=44000)\n",
        "    raw_sounds.append(X)\n",
        "    return raw_sounds,sr\n",
        "\n",
        "\n",
        "def plot_specgram(raw_sounds,sr,fp):\n",
        "#     fig = plt.figure()\n",
        "#     fig.subplots_adjust(left=0,right=1,bottom=0,top=1)\n",
        "    for f in raw_sounds:\n",
        "        plt.subplots(1)\n",
        "#         plt.subplots_adjust(left=0,right=1,bottom=0,top=1)\n",
        "        plt.margins(x=0)\n",
        "        specgram(np.array(f), Fs=sr)\n",
        "#         plt.axis('tight')\n",
        "        plt.axis('off')\n",
        "        #plt.colorbar(format='%+2.0f dB')\n",
        "        gh=fp.split('.')\n",
        "        plt.savefig(\"/wavs2/{}.png\".format(gh[0]),bbox_inches='tight',pad_inches=0)\n",
        "        \n",
        "        return gh[0]\n"
      ],
      "metadata": {
        "id": "S41PY3gKEBCB"
      },
      "execution_count": null,
      "outputs": []
    },
    {
      "cell_type": "code",
      "source": [
        "for i in new:  \n",
        "  raw_sounds,sr = load_sound_files(i)\n",
        "  ghp=plot_specgram(raw_sounds,sr,i)\n",
        "  image=tf.keras.preprocessing.image.load_img(\"/wavs2/{}.png\".format(ghp), color_mode='rgb',target_size= (513,800))\n",
        "  image.save(\"/specgram/{}.png\".format(ghp))"
      ],
      "metadata": {
        "id": "I3OB2hiHEBFe"
      },
      "execution_count": null,
      "outputs": []
    },
    {
      "cell_type": "markdown",
      "source": [
        "#**from youtube link to png format spectrum all steps done here**"
      ],
      "metadata": {
        "id": "nnX0SACqEhps"
      }
    }
  ],
  "metadata": {
    "colab": {
      "provenance": [],
      "include_colab_link": true
    },
    "kernelspec": {
      "display_name": "Python 3",
      "name": "python3"
    },
    "language_info": {
      "name": "python"
    },
    "accelerator": "GPU"
  },
  "nbformat": 4,
  "nbformat_minor": 0
}