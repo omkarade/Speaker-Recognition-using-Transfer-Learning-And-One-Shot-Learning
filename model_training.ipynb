{
  "nbformat": 4,
  "nbformat_minor": 0,
  "metadata": {
    "colab": {
      "provenance": [],
      "mount_file_id": "1o3mWJhV-ljCua5Y1IUb8lFhiJrMoGcVY",
      "authorship_tag": "ABX9TyNKcSVqDl4Y9m3e/7x245bk",
      "include_colab_link": true
    },
    "kernelspec": {
      "name": "python3",
      "display_name": "Python 3"
    },
    "language_info": {
      "name": "python"
    }
  },
  "cells": [
    {
      "cell_type": "markdown",
      "metadata": {
        "id": "view-in-github",
        "colab_type": "text"
      },
      "source": [
        "<a href=\"https://colab.research.google.com/github/omkarade/Speaker-Recognition-using-Transfer-Learning-And-One-Shot-Learning/blob/main/model_training.ipynb\" target=\"_parent\"><img src=\"https://colab.research.google.com/assets/colab-badge.svg\" alt=\"Open In Colab\"/></a>"
      ]
    },
    {
      "cell_type": "code",
      "source": [
        "import os\n",
        "import numpy as np\n",
        "import pandas as pd\n",
        "from keras.utils import np_utils\n",
        "from keras.layers import Dense, Dropout, Activation, Flatten\n",
        "from tensorflow import keras\n",
        "from keras import optimizers\n",
        "from sklearn.metrics import classification_report\n",
        "from sklearn.metrics import accuracy_score\n",
        "from sklearn.ensemble import RandomForestClassifier\n",
        "import tensorflow as tf\n",
        "from sklearn import svm\n",
        "from keras.models import Model\n",
        "import warnings\n",
        "from numpy import loadtxt\n",
        "from xgboost import XGBClassifier\n",
        "warnings.filterwarnings(\"ignore\")\n"
      ],
      "metadata": {
        "id": "e1Vi4Xdici0A"
      },
      "execution_count": 7,
      "outputs": []
    },
    {
      "cell_type": "code",
      "source": [
        "train=os.listdir('train')\n",
        "y_train=np.array('y_train')"
      ],
      "metadata": {
        "id": "T7QfOyIVcoHp"
      },
      "execution_count": null,
      "outputs": []
    },
    {
      "cell_type": "markdown",
      "source": [
        "**loading rgb Spectrogram into [513,800,3] array size**"
      ],
      "metadata": {
        "id": "lyCNW7IJc_Gq"
      }
    },
    {
      "cell_type": "code",
      "source": [
        "Xtrain=[]\n",
        "for i in train:   \n",
        "    image=tf.keras.preprocessing.image.load_img('train/{}'.format(i), color_mode='rgb', target_size= (513, 800, 3))\n",
        "    image=np.array(image)\n",
        "    Xtrain.append(image)\n",
        "Xtrain=np.array(Xtrain)\n",
        "y_train=np.array(y_train)    "
      ],
      "metadata": {
        "id": "L6yZxyG0ci3T"
      },
      "execution_count": null,
      "outputs": []
    },
    {
      "cell_type": "markdown",
      "source": [
        "**loading VGG-16 model**"
      ],
      "metadata": {
        "id": "RuE2XsN0dgr6"
      }
    },
    {
      "cell_type": "code",
      "source": [
        "from keras.applications import VGG16\n",
        "vgg_model = VGG16(weights='imagenet',include_top=False, input_shape=(513, 800, 3))"
      ],
      "metadata": {
        "id": "JgzQ0B7_ci6A"
      },
      "execution_count": null,
      "outputs": []
    },
    {
      "cell_type": "code",
      "source": [
        "for i,layer in enumerate(vgg_model.layers):\n",
        "  layer.trainable = False\n"
      ],
      "metadata": {
        "id": "jRr-gISuci8-"
      },
      "execution_count": null,
      "outputs": []
    },
    {
      "cell_type": "markdown",
      "source": [
        "**Adding Flatten layer**"
      ],
      "metadata": {
        "id": "xryF-NRXdzUx"
      }
    },
    {
      "cell_type": "code",
      "source": [
        "x = vgg_model.output\n",
        "x = Flatten()(x) # Flatten dimensions to for use in FC layers\n",
        "transfer_model = Model(inputs=vgg_model.input, outputs=x)\n"
      ],
      "metadata": {
        "id": "GctvUGntcjAV"
      },
      "execution_count": null,
      "outputs": []
    },
    {
      "cell_type": "code",
      "source": [
        "model2 = Model(inputs=transfer_model.input, outputs=transfer_model.get_layer('flatten').output)\n"
      ],
      "metadata": {
        "id": "gvGEAN-ucjDS"
      },
      "execution_count": null,
      "outputs": []
    },
    {
      "cell_type": "markdown",
      "source": [
        "**Passing [513,800,3]dimension Spectrogram into pre-trained model to get 204800-dimension representation of 5 sec wav file**"
      ],
      "metadata": {
        "id": "fRIhkBZ5eJiL"
      }
    },
    {
      "cell_type": "code",
      "source": [
        "svm_x_train = []\n",
        "svm_y_train = []\n",
        "for i in range(len(Xtrain)):\n",
        "  x_1 = np.expand_dims(Xtrain[i], axis=0)\n",
        "  flatten_2_features = model2.predict(x_1)\n",
        "  svm_x_train.append(flatten_2_features)\n",
        "  svm_y_train.append(y_train[i])\n"
      ],
      "metadata": {
        "id": "YwpGOrWMcjFt"
      },
      "execution_count": null,
      "outputs": []
    },
    {
      "cell_type": "code",
      "source": [
        "svm_x_test=np.load('test.npy')\n",
        "svm_y_test=np.load('ytest.npy')"
      ],
      "metadata": {
        "id": "WS0j-nzPfof9"
      },
      "execution_count": 6,
      "outputs": []
    },
    {
      "cell_type": "markdown",
      "source": [
        "**training SVM model**"
      ],
      "metadata": {
        "id": "_6QkhHaUfGOV"
      }
    },
    {
      "cell_type": "code",
      "source": [
        "svm_x_train = np.array(svm_x_train)\n",
        "clf = svm.SVC(kernel='rbf', class_weight='balanced')\n",
        "dataset_size = len(svm_x_train) \n",
        "svm_x_train = np.array(svm_x_train).reshape(dataset_size,-1)\n",
        "svm_y_train = np.array(svm_y_train)\n",
        "clf.fit(svm_x_train, svm_y_train)\n"
      ],
      "metadata": {
        "colab": {
          "base_uri": "https://localhost:8080/"
        },
        "id": "pkHpeRJmeGfJ",
        "outputId": "8165cbad-394b-4be2-9791-1f8128061aab"
      },
      "execution_count": 5,
      "outputs": [
        {
          "output_type": "execute_result",
          "data": {
            "text/plain": [
              "SVC(class_weight='balanced')"
            ]
          },
          "metadata": {},
          "execution_count": 5
        }
      ]
    },
    {
      "cell_type": "markdown",
      "source": [
        "* trump_mimic# -------------- 10\n",
        "* original _Trump# ---------- 9\n",
        "* male_Kannada# ------------- 8\n",
        "* female_marathi# ----------- 7\n",
        "* female_english_1#---------- 6\n",
        "* english_male_2#------------ 5\n",
        "* Shyam_Rangeela# ----------- 4\n",
        "* PMmodi#-------------------- 3\n",
        "* Malayalam_man#------------- 2\n",
        "* Jayanti_khatri#------------ 1\n"
      ],
      "metadata": {
        "id": "zXfI2gsQhq0V"
      }
    },
    {
      "cell_type": "code",
      "source": [
        "print(classification_report(clf.predict(svm_x_test),svm_y_test))"
      ],
      "metadata": {
        "colab": {
          "base_uri": "https://localhost:8080/"
        },
        "id": "PKtKTBlNeGhz",
        "outputId": "92fae30b-4ba3-43b7-d051-3352197afc5c"
      },
      "execution_count": 11,
      "outputs": [
        {
          "output_type": "stream",
          "name": "stdout",
          "text": [
            "              precision    recall  f1-score   support\n",
            "\n",
            "           0       1.00      0.50      0.67        12\n",
            "           1       0.83      1.00      0.91         5\n",
            "           2       1.00      0.80      0.89         5\n",
            "           3       1.00      0.95      0.98        22\n",
            "           4       0.79      1.00      0.88        11\n",
            "           5       1.00      1.00      1.00         4\n",
            "           6       0.00      0.00      0.00         0\n",
            "           7       1.00      1.00      1.00         3\n",
            "           8       1.00      0.75      0.86         4\n",
            "           9       1.00      0.75      0.86         8\n",
            "          10       0.80      1.00      0.89         4\n",
            "\n",
            "    accuracy                           0.86        78\n",
            "   macro avg       0.86      0.80      0.81        78\n",
            "weighted avg       0.95      0.86      0.88        78\n",
            "\n"
          ]
        }
      ]
    },
    {
      "cell_type": "code",
      "source": [],
      "metadata": {
        "id": "pvGCwrrgkD4y"
      },
      "execution_count": null,
      "outputs": []
    }
  ]
}